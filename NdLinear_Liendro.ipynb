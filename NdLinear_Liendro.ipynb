{
  "cells": [
    {
      "cell_type": "markdown",
      "metadata": {
        "id": "McE2fUjyy9O2"
      },
      "source": [
        "**NdLinear**\n",
        "\n",
        "In this notebook, we are going to compare three models following the Batch Normalization paper experiment:\n",
        "* Batch Normalization model: 3 hidden linear layers with batch normalizations.\n",
        "* Base model: 3 hidden linear layers.\n",
        "* NdLinear: 2 hidden NdLinear layers and one flattened linear layer.\n",
        "\n",
        "We will be using the MNIST dataset."
      ]
    },
    {
      "cell_type": "code",
      "execution_count": 1,
      "metadata": {
        "colab": {
          "base_uri": "https://localhost:8080/"
        },
        "id": "CRzcMmyzy97a",
        "outputId": "e547447e-96a8-4ad0-b311-92f1609672b2"
      },
      "outputs": [
        {
          "output_type": "stream",
          "name": "stdout",
          "text": [
            "\u001b[33mWARNING: Retrying (Retry(total=4, connect=None, read=None, redirect=None, status=None)) after connection broken by 'SSLError(SSLEOFError(8, 'EOF occurred in violation of protocol (_ssl.c:2437)'))': /simple/ndlinear/\u001b[0m\u001b[33m\n",
            "\u001b[0mCollecting ndlinear\n",
            "  Downloading ndlinear-1.0.0-py3-none-any.whl.metadata (6.0 kB)\n",
            "Requirement already satisfied: torch>=2.3.0 in /usr/local/lib/python3.11/dist-packages (from ndlinear) (2.6.0+cu124)\n",
            "Requirement already satisfied: numpy>=1.24.3 in /usr/local/lib/python3.11/dist-packages (from ndlinear) (2.0.2)\n",
            "Requirement already satisfied: filelock in /usr/local/lib/python3.11/dist-packages (from torch>=2.3.0->ndlinear) (3.18.0)\n",
            "Requirement already satisfied: typing-extensions>=4.10.0 in /usr/local/lib/python3.11/dist-packages (from torch>=2.3.0->ndlinear) (4.13.2)\n",
            "Requirement already satisfied: networkx in /usr/local/lib/python3.11/dist-packages (from torch>=2.3.0->ndlinear) (3.4.2)\n",
            "Requirement already satisfied: jinja2 in /usr/local/lib/python3.11/dist-packages (from torch>=2.3.0->ndlinear) (3.1.6)\n",
            "Requirement already satisfied: fsspec in /usr/local/lib/python3.11/dist-packages (from torch>=2.3.0->ndlinear) (2025.3.2)\n",
            "Collecting nvidia-cuda-nvrtc-cu12==12.4.127 (from torch>=2.3.0->ndlinear)\n",
            "  Downloading nvidia_cuda_nvrtc_cu12-12.4.127-py3-none-manylinux2014_x86_64.whl.metadata (1.5 kB)\n",
            "Collecting nvidia-cuda-runtime-cu12==12.4.127 (from torch>=2.3.0->ndlinear)\n",
            "  Downloading nvidia_cuda_runtime_cu12-12.4.127-py3-none-manylinux2014_x86_64.whl.metadata (1.5 kB)\n",
            "Collecting nvidia-cuda-cupti-cu12==12.4.127 (from torch>=2.3.0->ndlinear)\n",
            "  Downloading nvidia_cuda_cupti_cu12-12.4.127-py3-none-manylinux2014_x86_64.whl.metadata (1.6 kB)\n",
            "Collecting nvidia-cudnn-cu12==9.1.0.70 (from torch>=2.3.0->ndlinear)\n",
            "  Downloading nvidia_cudnn_cu12-9.1.0.70-py3-none-manylinux2014_x86_64.whl.metadata (1.6 kB)\n",
            "Collecting nvidia-cublas-cu12==12.4.5.8 (from torch>=2.3.0->ndlinear)\n",
            "  Downloading nvidia_cublas_cu12-12.4.5.8-py3-none-manylinux2014_x86_64.whl.metadata (1.5 kB)\n",
            "Collecting nvidia-cufft-cu12==11.2.1.3 (from torch>=2.3.0->ndlinear)\n",
            "  Downloading nvidia_cufft_cu12-11.2.1.3-py3-none-manylinux2014_x86_64.whl.metadata (1.5 kB)\n",
            "Collecting nvidia-curand-cu12==10.3.5.147 (from torch>=2.3.0->ndlinear)\n",
            "  Downloading nvidia_curand_cu12-10.3.5.147-py3-none-manylinux2014_x86_64.whl.metadata (1.5 kB)\n",
            "Collecting nvidia-cusolver-cu12==11.6.1.9 (from torch>=2.3.0->ndlinear)\n",
            "  Downloading nvidia_cusolver_cu12-11.6.1.9-py3-none-manylinux2014_x86_64.whl.metadata (1.6 kB)\n",
            "Collecting nvidia-cusparse-cu12==12.3.1.170 (from torch>=2.3.0->ndlinear)\n",
            "  Downloading nvidia_cusparse_cu12-12.3.1.170-py3-none-manylinux2014_x86_64.whl.metadata (1.6 kB)\n",
            "Requirement already satisfied: nvidia-cusparselt-cu12==0.6.2 in /usr/local/lib/python3.11/dist-packages (from torch>=2.3.0->ndlinear) (0.6.2)\n",
            "Requirement already satisfied: nvidia-nccl-cu12==2.21.5 in /usr/local/lib/python3.11/dist-packages (from torch>=2.3.0->ndlinear) (2.21.5)\n",
            "Requirement already satisfied: nvidia-nvtx-cu12==12.4.127 in /usr/local/lib/python3.11/dist-packages (from torch>=2.3.0->ndlinear) (12.4.127)\n",
            "Collecting nvidia-nvjitlink-cu12==12.4.127 (from torch>=2.3.0->ndlinear)\n",
            "  Downloading nvidia_nvjitlink_cu12-12.4.127-py3-none-manylinux2014_x86_64.whl.metadata (1.5 kB)\n",
            "Requirement already satisfied: triton==3.2.0 in /usr/local/lib/python3.11/dist-packages (from torch>=2.3.0->ndlinear) (3.2.0)\n",
            "Requirement already satisfied: sympy==1.13.1 in /usr/local/lib/python3.11/dist-packages (from torch>=2.3.0->ndlinear) (1.13.1)\n",
            "Requirement already satisfied: mpmath<1.4,>=1.1.0 in /usr/local/lib/python3.11/dist-packages (from sympy==1.13.1->torch>=2.3.0->ndlinear) (1.3.0)\n",
            "Requirement already satisfied: MarkupSafe>=2.0 in /usr/local/lib/python3.11/dist-packages (from jinja2->torch>=2.3.0->ndlinear) (3.0.2)\n",
            "Downloading ndlinear-1.0.0-py3-none-any.whl (9.0 kB)\n",
            "Downloading nvidia_cublas_cu12-12.4.5.8-py3-none-manylinux2014_x86_64.whl (363.4 MB)\n",
            "\u001b[2K   \u001b[90m━━━━━━━━━━━━━━━━━━━━━━━━━━━━━━━━━━━━━━━━\u001b[0m \u001b[32m363.4/363.4 MB\u001b[0m \u001b[31m4.0 MB/s\u001b[0m eta \u001b[36m0:00:00\u001b[0m\n",
            "\u001b[?25hDownloading nvidia_cuda_cupti_cu12-12.4.127-py3-none-manylinux2014_x86_64.whl (13.8 MB)\n",
            "\u001b[2K   \u001b[90m━━━━━━━━━━━━━━━━━━━━━━━━━━━━━━━━━━━━━━━━\u001b[0m \u001b[32m13.8/13.8 MB\u001b[0m \u001b[31m37.0 MB/s\u001b[0m eta \u001b[36m0:00:00\u001b[0m\n",
            "\u001b[?25hDownloading nvidia_cuda_nvrtc_cu12-12.4.127-py3-none-manylinux2014_x86_64.whl (24.6 MB)\n",
            "\u001b[2K   \u001b[90m━━━━━━━━━━━━━━━━━━━━━━━━━━━━━━━━━━━━━━━━\u001b[0m \u001b[32m24.6/24.6 MB\u001b[0m \u001b[31m31.5 MB/s\u001b[0m eta \u001b[36m0:00:00\u001b[0m\n",
            "\u001b[?25hDownloading nvidia_cuda_runtime_cu12-12.4.127-py3-none-manylinux2014_x86_64.whl (883 kB)\n",
            "\u001b[2K   \u001b[90m━━━━━━━━━━━━━━━━━━━━━━━━━━━━━━━━━━━━━━━━\u001b[0m \u001b[32m883.7/883.7 kB\u001b[0m \u001b[31m15.6 MB/s\u001b[0m eta \u001b[36m0:00:00\u001b[0m\n",
            "\u001b[?25hDownloading nvidia_cudnn_cu12-9.1.0.70-py3-none-manylinux2014_x86_64.whl (664.8 MB)\n",
            "\u001b[2K   \u001b[90m━━━━━━━━━━━━━━━━━━━━━━━━━━━━━━━━━━━━━━━━\u001b[0m \u001b[32m664.8/664.8 MB\u001b[0m \u001b[31m2.9 MB/s\u001b[0m eta \u001b[36m0:00:00\u001b[0m\n",
            "\u001b[?25hDownloading nvidia_cufft_cu12-11.2.1.3-py3-none-manylinux2014_x86_64.whl (211.5 MB)\n",
            "\u001b[2K   \u001b[90m━━━━━━━━━━━━━━━━━━━━━━━━━━━━━━━━━━━━━━━━\u001b[0m \u001b[32m211.5/211.5 MB\u001b[0m \u001b[31m5.6 MB/s\u001b[0m eta \u001b[36m0:00:00\u001b[0m\n",
            "\u001b[?25hDownloading nvidia_curand_cu12-10.3.5.147-py3-none-manylinux2014_x86_64.whl (56.3 MB)\n",
            "\u001b[2K   \u001b[90m━━━━━━━━━━━━━━━━━━━━━━━━━━━━━━━━━━━━━━━━\u001b[0m \u001b[32m56.3/56.3 MB\u001b[0m \u001b[31m15.4 MB/s\u001b[0m eta \u001b[36m0:00:00\u001b[0m\n",
            "\u001b[?25hDownloading nvidia_cusolver_cu12-11.6.1.9-py3-none-manylinux2014_x86_64.whl (127.9 MB)\n",
            "\u001b[2K   \u001b[90m━━━━━━━━━━━━━━━━━━━━━━━━━━━━━━━━━━━━━━━━\u001b[0m \u001b[32m127.9/127.9 MB\u001b[0m \u001b[31m7.5 MB/s\u001b[0m eta \u001b[36m0:00:00\u001b[0m\n",
            "\u001b[?25hDownloading nvidia_cusparse_cu12-12.3.1.170-py3-none-manylinux2014_x86_64.whl (207.5 MB)\n",
            "\u001b[2K   \u001b[90m━━━━━━━━━━━━━━━━━━━━━━━━━━━━━━━━━━━━━━━━\u001b[0m \u001b[32m207.5/207.5 MB\u001b[0m \u001b[31m6.1 MB/s\u001b[0m eta \u001b[36m0:00:00\u001b[0m\n",
            "\u001b[?25hDownloading nvidia_nvjitlink_cu12-12.4.127-py3-none-manylinux2014_x86_64.whl (21.1 MB)\n",
            "\u001b[2K   \u001b[90m━━━━━━━━━━━━━━━━━━━━━━━━━━━━━━━━━━━━━━━━\u001b[0m \u001b[32m21.1/21.1 MB\u001b[0m \u001b[31m104.5 MB/s\u001b[0m eta \u001b[36m0:00:00\u001b[0m\n",
            "\u001b[?25hInstalling collected packages: nvidia-nvjitlink-cu12, nvidia-curand-cu12, nvidia-cufft-cu12, nvidia-cuda-runtime-cu12, nvidia-cuda-nvrtc-cu12, nvidia-cuda-cupti-cu12, nvidia-cublas-cu12, nvidia-cusparse-cu12, nvidia-cudnn-cu12, nvidia-cusolver-cu12, ndlinear\n",
            "  Attempting uninstall: nvidia-nvjitlink-cu12\n",
            "    Found existing installation: nvidia-nvjitlink-cu12 12.5.82\n",
            "    Uninstalling nvidia-nvjitlink-cu12-12.5.82:\n",
            "      Successfully uninstalled nvidia-nvjitlink-cu12-12.5.82\n",
            "  Attempting uninstall: nvidia-curand-cu12\n",
            "    Found existing installation: nvidia-curand-cu12 10.3.6.82\n",
            "    Uninstalling nvidia-curand-cu12-10.3.6.82:\n",
            "      Successfully uninstalled nvidia-curand-cu12-10.3.6.82\n",
            "  Attempting uninstall: nvidia-cufft-cu12\n",
            "    Found existing installation: nvidia-cufft-cu12 11.2.3.61\n",
            "    Uninstalling nvidia-cufft-cu12-11.2.3.61:\n",
            "      Successfully uninstalled nvidia-cufft-cu12-11.2.3.61\n",
            "  Attempting uninstall: nvidia-cuda-runtime-cu12\n",
            "    Found existing installation: nvidia-cuda-runtime-cu12 12.5.82\n",
            "    Uninstalling nvidia-cuda-runtime-cu12-12.5.82:\n",
            "      Successfully uninstalled nvidia-cuda-runtime-cu12-12.5.82\n",
            "  Attempting uninstall: nvidia-cuda-nvrtc-cu12\n",
            "    Found existing installation: nvidia-cuda-nvrtc-cu12 12.5.82\n",
            "    Uninstalling nvidia-cuda-nvrtc-cu12-12.5.82:\n",
            "      Successfully uninstalled nvidia-cuda-nvrtc-cu12-12.5.82\n",
            "  Attempting uninstall: nvidia-cuda-cupti-cu12\n",
            "    Found existing installation: nvidia-cuda-cupti-cu12 12.5.82\n",
            "    Uninstalling nvidia-cuda-cupti-cu12-12.5.82:\n",
            "      Successfully uninstalled nvidia-cuda-cupti-cu12-12.5.82\n",
            "  Attempting uninstall: nvidia-cublas-cu12\n",
            "    Found existing installation: nvidia-cublas-cu12 12.5.3.2\n",
            "    Uninstalling nvidia-cublas-cu12-12.5.3.2:\n",
            "      Successfully uninstalled nvidia-cublas-cu12-12.5.3.2\n",
            "  Attempting uninstall: nvidia-cusparse-cu12\n",
            "    Found existing installation: nvidia-cusparse-cu12 12.5.1.3\n",
            "    Uninstalling nvidia-cusparse-cu12-12.5.1.3:\n",
            "      Successfully uninstalled nvidia-cusparse-cu12-12.5.1.3\n",
            "  Attempting uninstall: nvidia-cudnn-cu12\n",
            "    Found existing installation: nvidia-cudnn-cu12 9.3.0.75\n",
            "    Uninstalling nvidia-cudnn-cu12-9.3.0.75:\n",
            "      Successfully uninstalled nvidia-cudnn-cu12-9.3.0.75\n",
            "  Attempting uninstall: nvidia-cusolver-cu12\n",
            "    Found existing installation: nvidia-cusolver-cu12 11.6.3.83\n",
            "    Uninstalling nvidia-cusolver-cu12-11.6.3.83:\n",
            "      Successfully uninstalled nvidia-cusolver-cu12-11.6.3.83\n",
            "Successfully installed ndlinear-1.0.0 nvidia-cublas-cu12-12.4.5.8 nvidia-cuda-cupti-cu12-12.4.127 nvidia-cuda-nvrtc-cu12-12.4.127 nvidia-cuda-runtime-cu12-12.4.127 nvidia-cudnn-cu12-9.1.0.70 nvidia-cufft-cu12-11.2.1.3 nvidia-curand-cu12-10.3.5.147 nvidia-cusolver-cu12-11.6.1.9 nvidia-cusparse-cu12-12.3.1.170 nvidia-nvjitlink-cu12-12.4.127\n"
          ]
        }
      ],
      "source": [
        "!pip install ndlinear"
      ]
    },
    {
      "cell_type": "code",
      "execution_count": 2,
      "metadata": {
        "colab": {
          "base_uri": "https://localhost:8080/"
        },
        "id": "1HZ2vA2BBMhX",
        "outputId": "6fe5a3cc-b309-460f-f4e4-ae28c94c733b"
      },
      "outputs": [
        {
          "output_type": "stream",
          "name": "stdout",
          "text": [
            "Collecting python-mnist\n",
            "  Downloading python_mnist-0.7-py2.py3-none-any.whl.metadata (3.5 kB)\n",
            "Downloading python_mnist-0.7-py2.py3-none-any.whl (9.6 kB)\n",
            "Installing collected packages: python-mnist\n",
            "Successfully installed python-mnist-0.7\n",
            "Requirement already satisfied: torchsummary in /usr/local/lib/python3.11/dist-packages (1.5.1)\n"
          ]
        }
      ],
      "source": [
        "!pip install python-mnist\n",
        "!pip install torchsummary\n"
      ]
    },
    {
      "cell_type": "code",
      "execution_count": 19,
      "metadata": {
        "colab": {
          "base_uri": "https://localhost:8080/",
          "height": 447
        },
        "id": "w1KuQomvBQ_B",
        "outputId": "b78ecf2b-0c81-4fce-c3f7-5ccf7fcb5dfd"
      },
      "outputs": [
        {
          "output_type": "stream",
          "name": "stdout",
          "text": [
            "5\n"
          ]
        },
        {
          "output_type": "display_data",
          "data": {
            "text/plain": [
              "<Figure size 640x480 with 1 Axes>"
            ],
            "image/png": "[encoded data removed]"
          },
          "metadata": {}
        }
      ],
      "source": [
        "import numpy as np\n",
        "import matplotlib.pyplot as plt\n",
        "import torch\n",
        "from torch import optim\n",
        "from keras.datasets import mnist\n",
        "from torch.utils.data import TensorDataset, DataLoader\n",
        "import torch.nn as nn\n",
        "from torchsummary import summary\n",
        "from ndlinear import NdLinear\n",
        "import time\n",
        "\n",
        "#load mnist data\n",
        "(train_images, train_labels), (test_images, test_labels) = mnist.load_data()\n",
        "plt.imshow(train_images[0], cmap='gray')\n",
        "print(train_labels[0])\n",
        "\n",
        "# Set seed\n",
        "seed = 42\n",
        "torch.manual_seed(seed)\n",
        "\n",
        "# If using CUDA (GPU)\n",
        "if torch.cuda.is_available():\n",
        "    torch.cuda.manual_seed(seed)\n"
      ]
    },
    {
      "cell_type": "code",
      "source": [
        "device = torch.device('cuda' if torch.cuda.is_available() else 'cpu')\n",
        "print(f\"Using device: {device}\")"
      ],
      "metadata": {
        "colab": {
          "base_uri": "https://localhost:8080/"
        },
        "id": "e7EVQRx50fN_",
        "outputId": "b3e5445b-4c57-4041-df04-58d3aa29663d"
      },
      "execution_count": 20,
      "outputs": [
        {
          "output_type": "stream",
          "name": "stdout",
          "text": [
            "Using device: cuda\n"
          ]
        }
      ]
    },
    {
      "cell_type": "code",
      "execution_count": 21,
      "metadata": {
        "colab": {
          "base_uri": "https://localhost:8080/"
        },
        "id": "qjSGcp6QzCFR",
        "outputId": "f31636d5-836d-42ec-cb92-b63abe0e58c0"
      },
      "outputs": [
        {
          "output_type": "stream",
          "name": "stdout",
          "text": [
            "----------------------------------------------------------------\n",
            "        Layer (type)               Output Shape         Param #\n",
            "================================================================\n",
            "           Flatten-1                  [-1, 784]               0\n",
            "            Linear-2                  [-1, 100]          78,500\n",
            "       BatchNorm1d-3                  [-1, 100]             200\n",
            "           Sigmoid-4                  [-1, 100]               0\n",
            "            Linear-5                  [-1, 100]          10,100\n",
            "       BatchNorm1d-6                  [-1, 100]             200\n",
            "           Sigmoid-7                  [-1, 100]               0\n",
            "            Linear-8                  [-1, 100]          10,100\n",
            "       BatchNorm1d-9                  [-1, 100]             200\n",
            "          Sigmoid-10                  [-1, 100]               0\n",
            "           Linear-11                   [-1, 10]           1,010\n",
            "================================================================\n",
            "Total params: 100,310\n",
            "Trainable params: 100,310\n",
            "Non-trainable params: 0\n",
            "----------------------------------------------------------------\n",
            "Input size (MB): 0.00\n",
            "Forward/backward pass size (MB): 0.01\n",
            "Params size (MB): 0.38\n",
            "Estimated Total Size (MB): 0.40\n",
            "----------------------------------------------------------------\n"
          ]
        }
      ],
      "source": [
        "# Set Batch normalization model\n",
        "\n",
        "# Training parameters\n",
        "batch_size = 60\n",
        "epochs = 50\n",
        "\n",
        "# Create tensors and normalize data\n",
        "train_images = torch.tensor(train_images / 255.0, dtype=torch.float32)\n",
        "train_labels = torch.tensor(train_labels, dtype=torch.long)\n",
        "test_images = torch.tensor(test_images / 255.0, dtype=torch.float32)\n",
        "test_labels = torch.tensor(test_labels, dtype=torch.long)\n",
        "\n",
        "# Create DataLoaders\n",
        "train_dataset = TensorDataset(train_images, train_labels)\n",
        "train_loader = DataLoader(train_dataset, batch_size=batch_size, shuffle=True)\n",
        "test_dataset = TensorDataset(test_images, test_labels)\n",
        "test_loader = DataLoader(test_dataset, batch_size=batch_size, shuffle=False)\n",
        "\n",
        "# Create Model\n",
        "model_BN = torch.nn.Sequential(\n",
        "    torch.nn.Flatten(),\n",
        "    torch.nn.Linear(in_features = 28*28, out_features = 100),\n",
        "    torch.nn.BatchNorm1d(num_features=100),\n",
        "    torch.nn.Sigmoid(),\n",
        "    torch.nn.Linear(in_features = 100, out_features = 100),\n",
        "    torch.nn.BatchNorm1d(num_features=100),\n",
        "    torch.nn.Sigmoid(),\n",
        "    torch.nn.Linear(in_features = 100, out_features = 100),\n",
        "    torch.nn.BatchNorm1d(num_features=100),\n",
        "    torch.nn.Sigmoid(),\n",
        "    torch.nn.Linear(in_features = 100, out_features = 10),\n",
        ")\n",
        "model_BN = model_BN.to(device)\n",
        "\n",
        "summary(model_BN, input_size=(28, 28,1))\n"
      ]
    },
    {
      "cell_type": "code",
      "execution_count": 22,
      "metadata": {
        "colab": {
          "base_uri": "https://localhost:8080/"
        },
        "id": "Ef5zF1I7F_OQ",
        "outputId": "2b2b1563-ffda-46ee-fba0-e60a13da5565"
      },
      "outputs": [
        {
          "output_type": "stream",
          "name": "stdout",
          "text": [
            "Epoch 1, Accuracy: 92.06%\n",
            "Epoch 2, Accuracy: 93.18%\n",
            "Epoch 3, Accuracy: 94.80%\n",
            "Epoch 4, Accuracy: 94.69%\n",
            "Epoch 5, Accuracy: 95.60%\n",
            "Epoch 6, Accuracy: 96.42%\n",
            "Epoch 7, Accuracy: 96.72%\n",
            "Epoch 8, Accuracy: 96.57%\n",
            "Epoch 9, Accuracy: 96.45%\n",
            "Epoch 10, Accuracy: 97.30%\n",
            "Epoch 11, Accuracy: 96.89%\n",
            "Epoch 12, Accuracy: 97.23%\n",
            "Epoch 13, Accuracy: 97.50%\n",
            "Epoch 14, Accuracy: 97.26%\n",
            "Epoch 15, Accuracy: 97.68%\n",
            "Epoch 16, Accuracy: 97.66%\n",
            "Epoch 17, Accuracy: 97.19%\n",
            "Epoch 18, Accuracy: 97.43%\n",
            "Epoch 19, Accuracy: 97.69%\n",
            "Epoch 20, Accuracy: 97.79%\n",
            "Epoch 21, Accuracy: 97.47%\n",
            "Epoch 22, Accuracy: 97.70%\n",
            "Epoch 23, Accuracy: 97.82%\n",
            "Epoch 24, Accuracy: 97.86%\n",
            "Epoch 25, Accuracy: 97.97%\n",
            "Epoch 26, Accuracy: 97.71%\n",
            "Epoch 27, Accuracy: 97.74%\n",
            "Epoch 28, Accuracy: 97.59%\n",
            "Epoch 29, Accuracy: 98.00%\n",
            "Epoch 30, Accuracy: 97.72%\n",
            "Epoch 31, Accuracy: 97.92%\n",
            "Epoch 32, Accuracy: 97.79%\n",
            "Epoch 33, Accuracy: 97.87%\n",
            "Epoch 34, Accuracy: 97.96%\n",
            "Epoch 35, Accuracy: 97.82%\n",
            "Epoch 36, Accuracy: 97.89%\n",
            "Epoch 37, Accuracy: 98.00%\n",
            "Epoch 38, Accuracy: 98.05%\n",
            "Epoch 39, Accuracy: 98.16%\n",
            "Epoch 40, Accuracy: 98.09%\n",
            "Epoch 41, Accuracy: 98.03%\n",
            "Epoch 42, Accuracy: 98.15%\n",
            "Epoch 43, Accuracy: 97.82%\n",
            "Epoch 44, Accuracy: 98.03%\n",
            "Epoch 45, Accuracy: 98.10%\n",
            "Epoch 46, Accuracy: 97.91%\n",
            "Epoch 47, Accuracy: 98.00%\n",
            "Epoch 48, Accuracy: 97.97%\n",
            "Epoch 49, Accuracy: 98.25%\n",
            "Epoch 50, Accuracy: 97.94%\n"
          ]
        }
      ],
      "source": [
        "# Train Batch normalization model\n",
        "\n",
        "# Optimizers and loss\n",
        "criterion_BN = torch.nn.CrossEntropyLoss()\n",
        "optimizer_BN = torch.optim.SGD(model_BN.parameters(), lr=0.1)  #\n",
        "\n",
        "# Plotting variables\n",
        "accuracy_history_BN = []\n",
        "loss_history_BN = []\n",
        "\n",
        "# Initialize weights\n",
        "for layer in model_BN:\n",
        "    if isinstance(layer, nn.Linear):\n",
        "        nn.init.normal_(layer.weight, mean=0, std=0.05)\n",
        "        nn.init.zeros_(layer.bias)\n",
        "\n",
        "# Training loop\n",
        "for epoch in range(50):\n",
        "    model_BN.train()\n",
        "    for images, labels in train_loader:\n",
        "        # Move to gpu\n",
        "        images = images.to(device)\n",
        "        labels = labels.to(device)\n",
        "        optimizer_BN.zero_grad()\n",
        "        outputs = model_BN(images)\n",
        "        loss = criterion_BN(outputs, labels)\n",
        "        loss.backward()\n",
        "        optimizer_BN.step()\n",
        "\n",
        "    # Validation\n",
        "    model_BN.eval()\n",
        "    with torch.no_grad():\n",
        "        correct = 0\n",
        "        total = 0\n",
        "        for images, labels in test_loader:\n",
        "            images = images.to(device)\n",
        "            labels = labels.to(device)\n",
        "            outputs = model_BN(images)\n",
        "            _, predicted = torch.max(outputs, 1)\n",
        "            total += labels.size(0)\n",
        "            correct += (predicted == labels).sum().item()\n",
        "        accuracy_history_BN.append(100 * correct / total)\n",
        "        loss_history_BN.append(loss.item())\n",
        "        print(f'Epoch {epoch+1}, Accuracy: {100 * correct / total:.2f}%')\n"
      ]
    },
    {
      "cell_type": "code",
      "source": [
        "# Set Base model\n",
        "# Training parameters\n",
        "batch_size = 60\n",
        "epochs = 50\n",
        "# Create tensors and normalize data\n",
        "(train_images, train_labels), (test_images, test_labels) = mnist.load_data()\n",
        "train_images = torch.tensor(train_images / 255.0, dtype=torch.float32)\n",
        "train_labels = torch.tensor(train_labels, dtype=torch.long)\n",
        "test_images = torch.tensor(test_images / 255.0, dtype=torch.float32)\n",
        "test_labels = torch.tensor(test_labels, dtype=torch.long)\n",
        "\n",
        "# Create DataLoaders\n",
        "train_dataset = TensorDataset(train_images, train_labels)\n",
        "train_loader = DataLoader(train_dataset, batch_size=batch_size, shuffle=True)\n",
        "test_dataset = TensorDataset(test_images, test_labels)\n",
        "test_loader = DataLoader(test_dataset, batch_size=batch_size, shuffle=False)\n",
        "\n",
        "# Model\n",
        "model_base = torch.nn.Sequential(\n",
        "    torch.nn.Flatten(),\n",
        "    torch.nn.Linear(in_features = 28*28, out_features = 100),\n",
        "    torch.nn.Sigmoid(),\n",
        "    torch.nn.Linear(in_features = 100, out_features = 100),\n",
        "    torch.nn.Sigmoid(),\n",
        "    torch.nn.Linear(in_features = 100, out_features = 100),\n",
        "    torch.nn.Sigmoid(),\n",
        "    torch.nn.Linear(in_features = 100, out_features = 10),\n",
        "    )\n",
        "\n",
        "model_base = model_base.to(device)\n",
        "summary(model_base, input_size=(1, 28, 28))"
      ],
      "metadata": {
        "colab": {
          "base_uri": "https://localhost:8080/"
        },
        "id": "Xm3bVdFOd0ZR",
        "outputId": "3aface7f-3746-4e3e-a9b1-8037bd41c943"
      },
      "execution_count": 26,
      "outputs": [
        {
          "output_type": "stream",
          "name": "stdout",
          "text": [
            "----------------------------------------------------------------\n",
            "        Layer (type)               Output Shape         Param #\n",
            "================================================================\n",
            "           Flatten-1                  [-1, 784]               0\n",
            "            Linear-2                  [-1, 100]          78,500\n",
            "           Sigmoid-3                  [-1, 100]               0\n",
            "            Linear-4                  [-1, 100]          10,100\n",
            "           Sigmoid-5                  [-1, 100]               0\n",
            "            Linear-6                  [-1, 100]          10,100\n",
            "           Sigmoid-7                  [-1, 100]               0\n",
            "            Linear-8                   [-1, 10]           1,010\n",
            "================================================================\n",
            "Total params: 99,710\n",
            "Trainable params: 99,710\n",
            "Non-trainable params: 0\n",
            "----------------------------------------------------------------\n",
            "Input size (MB): 0.00\n",
            "Forward/backward pass size (MB): 0.01\n",
            "Params size (MB): 0.38\n",
            "Estimated Total Size (MB): 0.39\n",
            "----------------------------------------------------------------\n"
          ]
        }
      ]
    },
    {
      "cell_type": "code",
      "execution_count": 27,
      "metadata": {
        "colab": {
          "base_uri": "https://localhost:8080/"
        },
        "id": "TktTEetmXgV-",
        "outputId": "253e6d6b-6c5e-4858-cf54-79d30261971b"
      },
      "outputs": [
        {
          "output_type": "stream",
          "name": "stdout",
          "text": [
            "Epoch 1, Accuracy: 10.28%\n",
            "Epoch 2, Accuracy: 16.66%\n",
            "Epoch 3, Accuracy: 29.91%\n",
            "Epoch 4, Accuracy: 54.88%\n",
            "Epoch 5, Accuracy: 72.69%\n",
            "Epoch 6, Accuracy: 82.26%\n",
            "Epoch 7, Accuracy: 86.93%\n",
            "Epoch 8, Accuracy: 88.58%\n",
            "Epoch 9, Accuracy: 89.02%\n",
            "Epoch 10, Accuracy: 91.21%\n",
            "Epoch 11, Accuracy: 92.36%\n",
            "Epoch 12, Accuracy: 92.72%\n",
            "Epoch 13, Accuracy: 93.11%\n",
            "Epoch 14, Accuracy: 93.28%\n",
            "Epoch 15, Accuracy: 94.17%\n",
            "Epoch 16, Accuracy: 94.46%\n",
            "Epoch 17, Accuracy: 94.82%\n",
            "Epoch 18, Accuracy: 95.18%\n",
            "Epoch 19, Accuracy: 95.40%\n",
            "Epoch 20, Accuracy: 95.56%\n",
            "Epoch 21, Accuracy: 95.90%\n",
            "Epoch 22, Accuracy: 95.92%\n",
            "Epoch 23, Accuracy: 96.18%\n",
            "Epoch 24, Accuracy: 96.03%\n",
            "Epoch 25, Accuracy: 96.01%\n",
            "Epoch 26, Accuracy: 96.35%\n",
            "Epoch 27, Accuracy: 96.41%\n",
            "Epoch 28, Accuracy: 96.59%\n",
            "Epoch 29, Accuracy: 96.50%\n",
            "Epoch 30, Accuracy: 96.42%\n",
            "Epoch 31, Accuracy: 96.68%\n",
            "Epoch 32, Accuracy: 96.44%\n",
            "Epoch 33, Accuracy: 96.70%\n",
            "Epoch 34, Accuracy: 95.96%\n",
            "Epoch 35, Accuracy: 96.81%\n",
            "Epoch 36, Accuracy: 96.76%\n",
            "Epoch 37, Accuracy: 96.87%\n",
            "Epoch 38, Accuracy: 96.83%\n",
            "Epoch 39, Accuracy: 96.82%\n",
            "Epoch 40, Accuracy: 96.98%\n",
            "Epoch 41, Accuracy: 97.04%\n",
            "Epoch 42, Accuracy: 97.02%\n",
            "Epoch 43, Accuracy: 97.05%\n",
            "Epoch 44, Accuracy: 96.87%\n",
            "Epoch 45, Accuracy: 96.95%\n",
            "Epoch 46, Accuracy: 97.06%\n",
            "Epoch 47, Accuracy: 97.09%\n",
            "Epoch 48, Accuracy: 97.20%\n",
            "Epoch 49, Accuracy: 97.01%\n",
            "Epoch 50, Accuracy: 97.04%\n"
          ]
        }
      ],
      "source": [
        "# Train Base model\n",
        "# Initialize weights\n",
        "for layer in model_base:\n",
        "    if isinstance(layer, nn.Linear):\n",
        "        nn.init.normal_(layer.weight, mean=0, std=0.05)\n",
        "        nn.init.zeros_(layer.bias)\n",
        "\n",
        "# Plotting variables\n",
        "accuracy_history_base = []\n",
        "loss_history_base = []\n",
        "\n",
        "# Loss and optimizer (with proper LR)\n",
        "criterion = nn.CrossEntropyLoss()\n",
        "optimizer = optim.SGD(model_base.parameters(), lr=0.1)\n",
        "\n",
        "# Training loop\n",
        "for epoch in range(50):\n",
        "    model_base.train()\n",
        "    for images, labels in train_loader:\n",
        "        images = images.to(device)\n",
        "        labels = labels.to(device)\n",
        "        optimizer.zero_grad()\n",
        "        outputs = model_base(images)\n",
        "        loss = criterion(outputs, labels)\n",
        "        loss.backward()\n",
        "        optimizer.step()\n",
        "\n",
        "    # Validation\n",
        "    model_base.eval()\n",
        "    with torch.no_grad():\n",
        "        correct = 0\n",
        "        total = 0\n",
        "        for images, labels in test_loader:\n",
        "            images = images.to(device)\n",
        "            labels = labels.to(device)\n",
        "            outputs = model_base(images)\n",
        "            _, predicted = torch.max(outputs, 1)\n",
        "            total += labels.size(0)\n",
        "            correct += (predicted == labels).sum().item()\n",
        "        accuracy_history_base.append(100 * correct / total)\n",
        "        loss_history_base.append(loss.item())\n",
        "        print(f'Epoch {epoch+1}, Accuracy: {100 * correct / total:.2f}%')"
      ]
    },
    {
      "cell_type": "code",
      "execution_count": 60,
      "metadata": {
        "colab": {
          "base_uri": "https://localhost:8080/"
        },
        "id": "k2EymrSypGY7",
        "outputId": "825583db-2011-4abf-a7d2-4fe0a020d311"
      },
      "outputs": [
        {
          "output_type": "stream",
          "name": "stdout",
          "text": [
            "----------------------------------------------------------------\n",
            "        Layer (type)               Output Shape         Param #\n",
            "================================================================\n",
            "            Linear-1                   [-1, 14]             406\n",
            "            Linear-2                   [-1, 14]             406\n",
            "            Linear-3                    [-1, 4]               8\n",
            "          NdLinear-4            [-1, 14, 14, 4]               0\n",
            "           Sigmoid-5            [-1, 14, 14, 4]               0\n",
            "            Linear-6                    [-1, 7]             105\n",
            "            Linear-7                    [-1, 7]             105\n",
            "            Linear-8                    [-1, 8]              40\n",
            "          NdLinear-9              [-1, 7, 7, 8]               0\n",
            "          Sigmoid-10              [-1, 7, 7, 8]               0\n",
            "          Flatten-11                  [-1, 392]               0\n",
            "           Linear-12                   [-1, 10]           3,930\n",
            "       LogSoftmax-13                   [-1, 10]               0\n",
            "================================================================\n",
            "Total params: 5,000\n",
            "Trainable params: 5,000\n",
            "Non-trainable params: 0\n",
            "----------------------------------------------------------------\n",
            "Input size (MB): 0.00\n",
            "Forward/backward pass size (MB): 0.02\n",
            "Params size (MB): 0.02\n",
            "Estimated Total Size (MB): 0.04\n",
            "----------------------------------------------------------------\n"
          ]
        }
      ],
      "source": [
        "# Set NdLinear model\n",
        "# Training parameters\n",
        "batch_size = 60\n",
        "epochs = 50\n",
        "# Create tensors and normalize data\n",
        "(train_images, train_labels), (test_images, test_labels) = mnist.load_data()\n",
        "train_images = torch.tensor(train_images / 255.0, dtype=torch.float32).unsqueeze(-1)\n",
        "train_labels = torch.tensor(train_labels, dtype=torch.long)\n",
        "test_images = torch.tensor(test_images / 255.0, dtype=torch.float32).unsqueeze(-1)\n",
        "test_labels = torch.tensor(test_labels, dtype=torch.long)\n",
        "\n",
        "# Create DataLoaders\n",
        "train_dataset = TensorDataset(train_images, train_labels)\n",
        "train_loader = DataLoader(train_dataset, batch_size=batch_size, shuffle=True)\n",
        "test_dataset = TensorDataset(test_images, test_labels)\n",
        "test_loader = DataLoader(test_dataset, batch_size=batch_size, shuffle=False)\n",
        "\n",
        "# Model\n",
        "model_ndlinear = nn.Sequential(\n",
        "    NdLinear(input_dims=(28, 28,1), hidden_size=(14, 14,4)),\n",
        "    nn.Sigmoid(),\n",
        "    NdLinear(input_dims=(14, 14,4), hidden_size=( 7, 7,8)),\n",
        "    nn.Sigmoid(),\n",
        "    nn.Flatten(),\n",
        "    nn.Linear(in_features = 7*7*8, out_features = 10),\n",
        "    nn.LogSoftmax(dim=1) #For the NLLLoss\n",
        "\n",
        ")\n",
        "\n",
        "model_ndlinear = model_ndlinear.to(device)\n",
        "summary(model_ndlinear, input_size=(28, 28,1))"
      ]
    },
    {
      "cell_type": "code",
      "source": [
        "#Train NdLinear model\n",
        "# Initialize weights\n",
        "for layer in model_ndlinear:\n",
        "    if isinstance(layer, nn.Linear):\n",
        "        nn.init.normal_(layer.weight, mean=0, std=0.05)\n",
        "        nn.init.zeros_(layer.bias)\n",
        "\n",
        "# Plotting variables\n",
        "accuracy_history_nd = []\n",
        "loss_history_nd = []\n",
        "\n",
        "# Loss and optimizer\n",
        "criterion_nd = nn.NLLLoss() #Negative Log-Likelihood Loss equivalent to Cross-Entropy\n",
        "optimizer_nd = optim.SGD(model_ndlinear.parameters(), lr=0.1)\n",
        "\n",
        "# Training loop\n",
        "for epoch in range(50):\n",
        "    model_ndlinear.train()\n",
        "    for images, labels in train_loader:\n",
        "        images = images.to(device)\n",
        "        labels = labels.to(device)\n",
        "\n",
        "        optimizer_nd.zero_grad()\n",
        "        outputs = model_ndlinear(images)\n",
        "\n",
        "        loss = criterion_nd(outputs, labels)\n",
        "        loss.backward()\n",
        "        optimizer_nd.step()\n",
        "\n",
        "        # Validation\n",
        "    model_ndlinear.eval()\n",
        "    with torch.no_grad():\n",
        "        correct = 0\n",
        "        total = 0\n",
        "        for images, labels in test_loader:\n",
        "            images = images.to(device)\n",
        "            labels = labels.to(device)\n",
        "            outputs = model_ndlinear(images).squeeze(-1).squeeze(-1)\n",
        "            _, predicted = torch.max(outputs, 1)\n",
        "            total += labels.size(0)\n",
        "            correct += (predicted == labels).sum().item()\n",
        "\n",
        "        accuracy = 100 * correct / total  # Calculate accuracy after iterating through all batches\n",
        "        accuracy_history_nd.append(accuracy)\n",
        "        loss_history_nd.append(loss.item())\n",
        "        print(f'Epoch {epoch+1}, Accuracy: {accuracy:.2f}%')"
      ],
      "metadata": {
        "colab": {
          "base_uri": "https://localhost:8080/"
        },
        "id": "IXCI_56VeZMx",
        "outputId": "721d138a-fb8d-41f9-ffd1-39fbf022bf33"
      },
      "execution_count": 67,
      "outputs": [
        {
          "output_type": "stream",
          "name": "stdout",
          "text": [
            "Epoch 1, Accuracy: 11.35%\n",
            "Epoch 2, Accuracy: 81.45%\n",
            "Epoch 3, Accuracy: 92.04%\n",
            "Epoch 4, Accuracy: 93.66%\n",
            "Epoch 5, Accuracy: 94.89%\n",
            "Epoch 6, Accuracy: 95.45%\n",
            "Epoch 7, Accuracy: 95.53%\n",
            "Epoch 8, Accuracy: 95.78%\n",
            "Epoch 9, Accuracy: 96.16%\n",
            "Epoch 10, Accuracy: 96.14%\n",
            "Epoch 11, Accuracy: 96.43%\n",
            "Epoch 12, Accuracy: 96.65%\n",
            "Epoch 13, Accuracy: 96.36%\n",
            "Epoch 14, Accuracy: 96.73%\n",
            "Epoch 15, Accuracy: 96.81%\n",
            "Epoch 16, Accuracy: 96.90%\n",
            "Epoch 17, Accuracy: 97.06%\n",
            "Epoch 18, Accuracy: 96.99%\n",
            "Epoch 19, Accuracy: 97.02%\n",
            "Epoch 20, Accuracy: 96.91%\n",
            "Epoch 21, Accuracy: 97.23%\n",
            "Epoch 22, Accuracy: 97.06%\n",
            "Epoch 23, Accuracy: 96.79%\n",
            "Epoch 24, Accuracy: 97.23%\n",
            "Epoch 25, Accuracy: 97.31%\n",
            "Epoch 26, Accuracy: 97.31%\n",
            "Epoch 27, Accuracy: 97.34%\n",
            "Epoch 28, Accuracy: 97.31%\n",
            "Epoch 29, Accuracy: 97.41%\n",
            "Epoch 30, Accuracy: 97.22%\n",
            "Epoch 31, Accuracy: 97.42%\n",
            "Epoch 32, Accuracy: 97.28%\n",
            "Epoch 33, Accuracy: 97.43%\n",
            "Epoch 34, Accuracy: 97.56%\n",
            "Epoch 35, Accuracy: 97.48%\n",
            "Epoch 36, Accuracy: 97.50%\n",
            "Epoch 37, Accuracy: 97.34%\n",
            "Epoch 38, Accuracy: 97.40%\n",
            "Epoch 39, Accuracy: 97.46%\n",
            "Epoch 40, Accuracy: 97.44%\n",
            "Epoch 41, Accuracy: 97.39%\n",
            "Epoch 42, Accuracy: 97.52%\n",
            "Epoch 43, Accuracy: 97.52%\n",
            "Epoch 44, Accuracy: 97.54%\n",
            "Epoch 45, Accuracy: 97.43%\n",
            "Epoch 46, Accuracy: 97.55%\n",
            "Epoch 47, Accuracy: 97.53%\n",
            "Epoch 48, Accuracy: 97.35%\n",
            "Epoch 49, Accuracy: 97.51%\n",
            "Epoch 50, Accuracy: 97.32%\n"
          ]
        }
      ]
    },
    {
      "cell_type": "code",
      "source": [
        "def count_parameters(model):\n",
        "    return sum(p.numel() for p in model.parameters())\n",
        "\n",
        "params_BN = count_parameters(model_BN)\n",
        "params_base = count_parameters(model_base)\n",
        "params_nd = count_parameters(model_ndlinear)\n",
        "\n",
        "print(f\"BN params: {params_BN:,}\")\n",
        "print(f\"Base params: {params_base:,}\")\n",
        "print(f\"NdLinear params: {params_nd:,}\")\n"
      ],
      "metadata": {
        "colab": {
          "base_uri": "https://localhost:8080/"
        },
        "id": "uTZaTWHRjCnT",
        "outputId": "9f2a7cc3-a8ea-4aa2-805e-994d44861677"
      },
      "execution_count": 68,
      "outputs": [
        {
          "output_type": "stream",
          "name": "stdout",
          "text": [
            "BN params: 100,310\n",
            "Base params: 99,710\n",
            "NdLinear params: 5,000\n"
          ]
        }
      ]
    },
    {
      "cell_type": "code",
      "execution_count": 69,
      "metadata": {
        "colab": {
          "base_uri": "https://localhost:8080/",
          "height": 404
        },
        "id": "_AzMyGxRkW41",
        "outputId": "b4e3443a-d1f4-43db-9457-6e7dda880bd3"
      },
      "outputs": [
        {
          "output_type": "display_data",
          "data": {
            "text/plain": [
              "<Figure size 1500x500 with 3 Axes>"
            ],
            "image/png": "[encoded data removed]"
          },
          "metadata": {}
        }
      ],
      "source": [
        "fig, (ax1, ax2,ax3) = plt.subplots(1, 3, figsize=(15, 5))\n",
        "\n",
        "# Plot 1: Accuracy curves\n",
        "ax1.plot(accuracy_history_nd, label='NdLinear')\n",
        "ax1.plot(accuracy_history_base, label='Base')\n",
        "ax1.plot(accuracy_history_BN, label='BatchNorm')\n",
        "ax1.set_title('Model Test Accuracy')\n",
        "ax1.set_ylabel('Accuracy')\n",
        "ax1.set_xlabel('Epoch')\n",
        "ax1.legend(loc='lower right')\n",
        "\n",
        "ax2.plot(loss_history_nd)\n",
        "ax2.plot(loss_history_base)\n",
        "ax2.plot(loss_history_BN)\n",
        "ax2.set_title('Model loss')\n",
        "ax2.set_ylabel('Loss')\n",
        "ax2.set_xlabel('Epoch')\n",
        "ax2.legend(['NdLinear','Base','BatchNorm'], loc='upper right')\n",
        "\n",
        "models = ['NdLinear','Base','BatchNorm']\n",
        "params = [params_nd,params_base,params_BN ]\n",
        "colors = ['skyblue', 'salmon', 'lightgreen']\n",
        "\n",
        "ax3.bar(models, params, color=colors, edgecolor='black')\n",
        "ax3.set_title('Parameter Count Comparison')\n",
        "ax3.set_ylabel('Number of Parameters')\n",
        "ax3.set_xlabel('Model')\n",
        "\n",
        "plt.tight_layout()\n",
        "plt.show()\n"
      ]
    },
    {
      "cell_type": "code",
      "source": [
        "def get_gpu_memory():\n",
        "    if torch.cuda.is_available():\n",
        "        torch.cuda.synchronize()\n",
        "        return torch.cuda.max_memory_allocated() / (1024 ** 2)  # MB\n",
        "    return 0\n",
        "\n",
        "models = {\n",
        "    'NdLinear': model_ndlinear.to(device),\n",
        "        'Base': model_base.to(device),\n",
        "    'BatchNorm': model_BN.to(device),\n",
        "}\n",
        "\n",
        "# Create tensors and normalize data\n",
        "(train_images, train_labels), (test_images, test_labels) = mnist.load_data()\n",
        "train_images = torch.tensor(train_images / 255.0, dtype=torch.float32).unsqueeze(-1)\n",
        "train_labels = torch.tensor(train_labels, dtype=torch.long)\n",
        "test_images = torch.tensor(test_images / 255.0, dtype=torch.float32).unsqueeze(-1)\n",
        "test_labels = torch.tensor(test_labels, dtype=torch.long)\n",
        "\n",
        "# Create DataLoaders\n",
        "train_dataset = TensorDataset(train_images, train_labels)\n",
        "train_loader = DataLoader(train_dataset, batch_size=batch_size, shuffle=True)\n",
        "test_dataset = TensorDataset(test_images, test_labels)\n",
        "test_loader = DataLoader(test_dataset, batch_size=batch_size, shuffle=False)\n",
        "\n",
        "\n",
        "for name, model in models.items():\n",
        "    torch.cuda.reset_peak_memory_stats()  # Reset before measurement\n",
        "\n",
        "    for images, _ in train_loader:\n",
        "        images = images.to(device)\n",
        "        _ = model(images)\n",
        "\n",
        "    print(f\"{name} GPU memory: {get_gpu_memory():.2f} MB\")"
      ],
      "metadata": {
        "colab": {
          "base_uri": "https://localhost:8080/"
        },
        "id": "3jixLLE9unHQ",
        "outputId": "69543c12-25dd-494b-f4d2-79f1c480e807"
      },
      "execution_count": 43,
      "outputs": [
        {
          "output_type": "stream",
          "name": "stdout",
          "text": [
            "NdLinear GPU memory: 22.69 MB\n",
            "Base GPU memory: 21.86 MB\n",
            "BatchNorm GPU memory: 21.17 MB\n"
          ]
        }
      ]
    },
    {
      "cell_type": "code",
      "source": [
        "# Time one epoch for each model\n",
        "for name, model in models.items():\n",
        "    start_time = time.time()\n",
        "\n",
        "    # Run one epoch\n",
        "    model.train()\n",
        "    for images, _ in train_loader:  # Use your existing train_loader\n",
        "        images = images.to(device)\n",
        "        outputs = model(images)  # Forward pass\n",
        "\n",
        "    end_time = time.time()\n",
        "    print(f\"{name}: {end_time - start_time:.2f} seconds per epoch\")"
      ],
      "metadata": {
        "colab": {
          "base_uri": "https://localhost:8080/"
        },
        "id": "xNfwmQPXtcOn",
        "outputId": "5ac3c4ae-157c-45e8-a1a1-a80f51ba8aa9"
      },
      "execution_count": 42,
      "outputs": [
        {
          "output_type": "stream",
          "name": "stdout",
          "text": [
            "NdLinear: 1.47 seconds per epoch\n",
            "Base: 0.92 seconds per epoch\n",
            "BatchNorm: 1.24 seconds per epoch\n"
          ]
        }
      ]
    },
    {
      "cell_type": "code",
      "source": [
        "# Inference speed\n",
        "\n",
        "for name, model in models.items():\n",
        "      start = time.time()\n",
        "      for images, _ in test_loader:\n",
        "          images = images.to(device)\n",
        "          _ = model(images)\n",
        "      print(f\"{name} Inference Speed: {(time.time()-start):.2f}s\")"
      ],
      "metadata": {
        "colab": {
          "base_uri": "https://localhost:8080/"
        },
        "id": "KYHPS4MSulw3",
        "outputId": "087dda36-ccb8-407f-ec5a-c6d0fb04d996"
      },
      "execution_count": 58,
      "outputs": [
        {
          "output_type": "stream",
          "name": "stdout",
          "text": [
            "NdLinear Inference Speed: 0.28s\n",
            "Base Inference Speed: 0.16s\n",
            "BatchNorm Inference Speed: 0.20s\n"
          ]
        }
      ]
    },
    {
      "cell_type": "code",
      "source": [
        "def get_model_size_mb(model):\n",
        "    # Calculate total parameters in bytes (float32 = 4 bytes per param)\n",
        "    param_size = sum(p.numel() * 4 for p in model.parameters())\n",
        "    # Convert to MB\n",
        "    return param_size / (1024 ** 2)\n",
        "\n",
        "print(f\"NdLinear model size: {get_model_size_mb(model_ndlinear):.2f} MB\")\n",
        "print(f\"Base model size: {get_model_size_mb(model_base):.2f} MB\")\n",
        "print(f\"BatchNorm model size: {get_model_size_mb(model_BN):.2f} MB\")"
      ],
      "metadata": {
        "colab": {
          "base_uri": "https://localhost:8080/"
        },
        "id": "3TVv0jJM9acZ",
        "outputId": "8947a3f3-3b9d-4cf3-9887-fea5b5a294ea"
      },
      "execution_count": 62,
      "outputs": [
        {
          "output_type": "stream",
          "name": "stdout",
          "text": [
            "NdLinear model size: 0.02 MB\n",
            "Base model size: 0.38 MB\n",
            "BatchNorm model size: 0.38 MB\n"
          ]
        }
      ]
    },
    {
      "cell_type": "markdown",
      "source": [
        "**Model Performance Comparison**\n",
        "\n",
        "| Metric               | NdLinear       | Base Model     | BatchNorm Model |\n",
        "|----------------------|---------------|---------------|-----------------|\n",
        "| **GPU Memory**       | 22.69 MB      | 21.86 MB      | 21.17 MB        |\n",
        "| **Training Speed/Epoch** | 1.47 s     | 0.92 s        | 1.24 s          |\n",
        "| **Inference Speed**  | 0.28 s        | 0.16 s        | 0.20 s          |\n",
        "| **Achieves >90% accuracy** | 3 epochs | 10 epochs | 1 epoch\n",
        "|\n",
        "| **Model Size**       | 0.02 MB       | 0.38 MB       | 0.38 MB         |\n",
        "\n",
        "As we can see the NdLinear model performance is very close overall to the Batch Normalization model. It gets over 90% of accuracy more than three times faster than the Base model. Where it clearly outperforms both models is in the model size, being 95% smaller than the other two models.\n",
        "\n",
        "Considering how much models can grow and that in terms of accuracy and training epochs it outperformed the base model, we can see the motivation to use this layer."
      ],
      "metadata": {
        "id": "2DUrUKqP-fxp"
      }
    },
    {
      "cell_type": "markdown",
      "source": [
        "*María Victoria Liendro*"
      ],
      "metadata": {
        "id": "0xaGj15a91DD"
      }
    }
  ],
  "metadata": {
    "colab": {
      "provenance": [],
      "gpuType": "T4"
    },
    "kernelspec": {
      "display_name": "Python 3",
      "name": "python3"
    },
    "language_info": {
      "name": "python"
    },
    "accelerator": "GPU"
  },
  "nbformat": 4,
  "nbformat_minor": 0
}